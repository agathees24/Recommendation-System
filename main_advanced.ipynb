{
 "cells": [
  {
   "cell_type": "markdown",
   "id": "0cec7de4",
   "metadata": {},
   "source": [
    "# Task 4 – Recommendation System using Collaborative Filtering\n",
    "\n",
    "Author: **Agatheeswaran R**\n",
    "\n",
    "This notebook builds a recommendation system using Surprise's SVD model and cosine similarity matrix for user similarity."
   ]
  },
  {
   "cell_type": "code",
   "execution_count": null,
   "id": "41441f75",
   "metadata": {},
   "outputs": [],
   "source": [
    "import pandas as pd\n",
    "from surprise import Dataset, Reader, SVD\n",
    "from surprise.model_selection import cross_validate\n",
    "from sklearn.metrics.pairwise import cosine_similarity\n",
    "import seaborn as sns\n",
    "import matplotlib.pyplot as plt"
   ]
  },
  {
   "cell_type": "code",
   "execution_count": null,
   "id": "a744e120",
   "metadata": {},
   "outputs": [],
   "source": [
    "# 📥 Load GoodBooks Ratings Dataset\n",
    "ratings = pd.read_csv('https://raw.githubusercontent.com/zygmuntz/goodbooks-10k/master/ratings.csv')\n",
    "ratings.rename(columns={'user_id': 'userId', 'book_id': 'movieId'}, inplace=True)\n",
    "ratings = ratings[['userId', 'movieId', 'rating']].dropna()\n",
    "ratings.head()"
   ]
  },
  {
   "cell_type": "code",
   "execution_count": null,
   "id": "4b8abf33",
   "metadata": {},
   "outputs": [],
   "source": [
    "# ✅ Use Surprise for Collaborative Filtering\n",
    "reader = Reader(rating_scale=(0.5, 5.0))\n",
    "data = Dataset.load_from_df(ratings, reader)\n",
    "model = SVD()\n",
    "cross_validate(model, data, measures=['RMSE', 'MAE'], cv=3, verbose=True)"
   ]
  },
  {
   "cell_type": "code",
   "execution_count": null,
   "id": "f4553fbd",
   "metadata": {},
   "outputs": [],
   "source": [
    "# 📊 Cosine Similarity Matrix (Memory Safe)\n",
    "pivot = ratings.pivot(index='userId', columns='movieId', values='rating').fillna(0)\n",
    "subset_size = 1000\n",
    "pivot_small = pivot.iloc[:subset_size, :]\n",
    "similarity_matrix = cosine_similarity(pivot_small)\n",
    "sns.heatmap(similarity_matrix[:10, :10], cmap='viridis')\n",
    "plt.title(\"User Similarity Heatmap (first 1000 users)\")\n",
    "plt.savefig(\"similarity_heatmap.png\")\n",
    "plt.show()"
   ]
  }
 ],
 "metadata": {},
 "nbformat": 4,
 "nbformat_minor": 5
}
